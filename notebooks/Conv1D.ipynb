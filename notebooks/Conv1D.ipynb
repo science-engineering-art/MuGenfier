{
  "nbformat": 4,
  "nbformat_minor": 0,
  "metadata": {
    "colab": {
      "provenance": [],
      "gpuType": "T4",
      "collapsed_sections": [
        "NZeYhJTxNFbG",
        "Lmfc5ZyiLkNm",
        "CP9ieecVO3Et",
        "uk_hYDGaeQxz",
        "UX4sHS4ChzCq",
        "1TxCpG-Cd9BW"
      ]
    },
    "kernelspec": {
      "name": "python3",
      "display_name": "Python 3"
    },
    "language_info": {
      "name": "python"
    },
    "accelerator": "GPU"
  },
  "cells": [
    {
      "cell_type": "markdown",
      "source": [
        "# importacion 'os'"
      ],
      "metadata": {
        "id": "kr7m2p-TM7kx"
      }
    },
    {
      "cell_type": "code",
      "execution_count": null,
      "metadata": {
        "id": "bD-EWVxxlKj2"
      },
      "outputs": [],
      "source": [
        "import os"
      ]
    },
    {
      "cell_type": "markdown",
      "source": [
        "# Montando Drive"
      ],
      "metadata": {
        "id": "NZeYhJTxNFbG"
      }
    },
    {
      "cell_type": "code",
      "source": [
        "from google.colab import drive\n",
        "drive.mount('/content/drive')"
      ],
      "metadata": {
        "id": "lcVdR1bT_Z2E",
        "colab": {
          "base_uri": "https://localhost:8080/",
          "height": 345
        },
        "outputId": "eeb3ba32-6650-4e0a-c1b4-7095c0914c51"
      },
      "execution_count": null,
      "outputs": [
        {
          "output_type": "error",
          "ename": "KeyboardInterrupt",
          "evalue": "ignored",
          "traceback": [
            "\u001b[0;31m---------------------------------------------------------------------------\u001b[0m",
            "\u001b[0;31mKeyboardInterrupt\u001b[0m                         Traceback (most recent call last)",
            "\u001b[0;32m<ipython-input-2-d5df0069828e>\u001b[0m in \u001b[0;36m<cell line: 2>\u001b[0;34m()\u001b[0m\n\u001b[1;32m      1\u001b[0m \u001b[0;32mfrom\u001b[0m \u001b[0mgoogle\u001b[0m\u001b[0;34m.\u001b[0m\u001b[0mcolab\u001b[0m \u001b[0;32mimport\u001b[0m \u001b[0mdrive\u001b[0m\u001b[0;34m\u001b[0m\u001b[0;34m\u001b[0m\u001b[0m\n\u001b[0;32m----> 2\u001b[0;31m \u001b[0mdrive\u001b[0m\u001b[0;34m.\u001b[0m\u001b[0mmount\u001b[0m\u001b[0;34m(\u001b[0m\u001b[0;34m'/content/drive'\u001b[0m\u001b[0;34m)\u001b[0m\u001b[0;34m\u001b[0m\u001b[0;34m\u001b[0m\u001b[0m\n\u001b[0m",
            "\u001b[0;32m/usr/local/lib/python3.10/dist-packages/google/colab/drive.py\u001b[0m in \u001b[0;36mmount\u001b[0;34m(mountpoint, force_remount, timeout_ms, readonly)\u001b[0m\n\u001b[1;32m    101\u001b[0m \u001b[0;32mdef\u001b[0m \u001b[0mmount\u001b[0m\u001b[0;34m(\u001b[0m\u001b[0mmountpoint\u001b[0m\u001b[0;34m,\u001b[0m \u001b[0mforce_remount\u001b[0m\u001b[0;34m=\u001b[0m\u001b[0;32mFalse\u001b[0m\u001b[0;34m,\u001b[0m \u001b[0mtimeout_ms\u001b[0m\u001b[0;34m=\u001b[0m\u001b[0;36m120000\u001b[0m\u001b[0;34m,\u001b[0m \u001b[0mreadonly\u001b[0m\u001b[0;34m=\u001b[0m\u001b[0;32mFalse\u001b[0m\u001b[0;34m)\u001b[0m\u001b[0;34m:\u001b[0m\u001b[0;34m\u001b[0m\u001b[0;34m\u001b[0m\u001b[0m\n\u001b[1;32m    102\u001b[0m   \u001b[0;34m\"\"\"Mount your Google Drive at the specified mountpoint path.\"\"\"\u001b[0m\u001b[0;34m\u001b[0m\u001b[0;34m\u001b[0m\u001b[0m\n\u001b[0;32m--> 103\u001b[0;31m   return _mount(\n\u001b[0m\u001b[1;32m    104\u001b[0m       \u001b[0mmountpoint\u001b[0m\u001b[0;34m,\u001b[0m\u001b[0;34m\u001b[0m\u001b[0;34m\u001b[0m\u001b[0m\n\u001b[1;32m    105\u001b[0m       \u001b[0mforce_remount\u001b[0m\u001b[0;34m=\u001b[0m\u001b[0mforce_remount\u001b[0m\u001b[0;34m,\u001b[0m\u001b[0;34m\u001b[0m\u001b[0;34m\u001b[0m\u001b[0m\n",
            "\u001b[0;32m/usr/local/lib/python3.10/dist-packages/google/colab/drive.py\u001b[0m in \u001b[0;36m_mount\u001b[0;34m(mountpoint, force_remount, timeout_ms, ephemeral, readonly)\u001b[0m\n\u001b[1;32m    130\u001b[0m   )\n\u001b[1;32m    131\u001b[0m   \u001b[0;32mif\u001b[0m \u001b[0mephemeral\u001b[0m\u001b[0;34m:\u001b[0m\u001b[0;34m\u001b[0m\u001b[0;34m\u001b[0m\u001b[0m\n\u001b[0;32m--> 132\u001b[0;31m     _message.blocking_request(\n\u001b[0m\u001b[1;32m    133\u001b[0m         \u001b[0;34m'request_auth'\u001b[0m\u001b[0;34m,\u001b[0m \u001b[0mrequest\u001b[0m\u001b[0;34m=\u001b[0m\u001b[0;34m{\u001b[0m\u001b[0;34m'authType'\u001b[0m\u001b[0;34m:\u001b[0m \u001b[0;34m'dfs_ephemeral'\u001b[0m\u001b[0;34m}\u001b[0m\u001b[0;34m,\u001b[0m \u001b[0mtimeout_sec\u001b[0m\u001b[0;34m=\u001b[0m\u001b[0;32mNone\u001b[0m\u001b[0;34m\u001b[0m\u001b[0;34m\u001b[0m\u001b[0m\n\u001b[1;32m    134\u001b[0m     )\n",
            "\u001b[0;32m/usr/local/lib/python3.10/dist-packages/google/colab/_message.py\u001b[0m in \u001b[0;36mblocking_request\u001b[0;34m(request_type, request, timeout_sec, parent)\u001b[0m\n\u001b[1;32m    174\u001b[0m       \u001b[0mrequest_type\u001b[0m\u001b[0;34m,\u001b[0m \u001b[0mrequest\u001b[0m\u001b[0;34m,\u001b[0m \u001b[0mparent\u001b[0m\u001b[0;34m=\u001b[0m\u001b[0mparent\u001b[0m\u001b[0;34m,\u001b[0m \u001b[0mexpect_reply\u001b[0m\u001b[0;34m=\u001b[0m\u001b[0;32mTrue\u001b[0m\u001b[0;34m\u001b[0m\u001b[0;34m\u001b[0m\u001b[0m\n\u001b[1;32m    175\u001b[0m   )\n\u001b[0;32m--> 176\u001b[0;31m   \u001b[0;32mreturn\u001b[0m \u001b[0mread_reply_from_input\u001b[0m\u001b[0;34m(\u001b[0m\u001b[0mrequest_id\u001b[0m\u001b[0;34m,\u001b[0m \u001b[0mtimeout_sec\u001b[0m\u001b[0;34m)\u001b[0m\u001b[0;34m\u001b[0m\u001b[0;34m\u001b[0m\u001b[0m\n\u001b[0m",
            "\u001b[0;32m/usr/local/lib/python3.10/dist-packages/google/colab/_message.py\u001b[0m in \u001b[0;36mread_reply_from_input\u001b[0;34m(message_id, timeout_sec)\u001b[0m\n\u001b[1;32m     94\u001b[0m     \u001b[0mreply\u001b[0m \u001b[0;34m=\u001b[0m \u001b[0m_read_next_input_message\u001b[0m\u001b[0;34m(\u001b[0m\u001b[0;34m)\u001b[0m\u001b[0;34m\u001b[0m\u001b[0;34m\u001b[0m\u001b[0m\n\u001b[1;32m     95\u001b[0m     \u001b[0;32mif\u001b[0m \u001b[0mreply\u001b[0m \u001b[0;34m==\u001b[0m \u001b[0m_NOT_READY\u001b[0m \u001b[0;32mor\u001b[0m \u001b[0;32mnot\u001b[0m \u001b[0misinstance\u001b[0m\u001b[0;34m(\u001b[0m\u001b[0mreply\u001b[0m\u001b[0;34m,\u001b[0m \u001b[0mdict\u001b[0m\u001b[0;34m)\u001b[0m\u001b[0;34m:\u001b[0m\u001b[0;34m\u001b[0m\u001b[0;34m\u001b[0m\u001b[0m\n\u001b[0;32m---> 96\u001b[0;31m       \u001b[0mtime\u001b[0m\u001b[0;34m.\u001b[0m\u001b[0msleep\u001b[0m\u001b[0;34m(\u001b[0m\u001b[0;36m0.025\u001b[0m\u001b[0;34m)\u001b[0m\u001b[0;34m\u001b[0m\u001b[0;34m\u001b[0m\u001b[0m\n\u001b[0m\u001b[1;32m     97\u001b[0m       \u001b[0;32mcontinue\u001b[0m\u001b[0;34m\u001b[0m\u001b[0;34m\u001b[0m\u001b[0m\n\u001b[1;32m     98\u001b[0m     if (\n",
            "\u001b[0;31mKeyboardInterrupt\u001b[0m: "
          ]
        }
      ]
    },
    {
      "cell_type": "markdown",
      "source": [
        "# Importando y descargando GTZAN 👇🏻"
      ],
      "metadata": {
        "id": "Lmfc5ZyiLkNm"
      }
    },
    {
      "cell_type": "code",
      "source": [
        "!pip install kaggle\n",
        "api_token = {\"username\":\"franciscoayracacceres\",\"key\":\"0faed9196b5d77ac39f381ebcbcea42e\"}"
      ],
      "metadata": {
        "id": "nqe4CE2HBtKv"
      },
      "execution_count": null,
      "outputs": []
    },
    {
      "cell_type": "code",
      "source": [
        "from google.colab import files\n",
        "files.upload()"
      ],
      "metadata": {
        "id": "QTFZv1yBLzGm"
      },
      "execution_count": null,
      "outputs": []
    },
    {
      "cell_type": "code",
      "source": [
        "!mkdir ~/.kaggle"
      ],
      "metadata": {
        "id": "PGHAWChHL0ix"
      },
      "execution_count": null,
      "outputs": []
    },
    {
      "cell_type": "code",
      "source": [
        "!cp kaggle.json ~/.kaggle/"
      ],
      "metadata": {
        "id": "RZjVWJxCCdQc"
      },
      "execution_count": null,
      "outputs": []
    },
    {
      "cell_type": "code",
      "source": [
        "!chmod 600 ~/.kaggle/kaggle.json"
      ],
      "metadata": {
        "id": "STn6wTHuCyBX"
      },
      "execution_count": null,
      "outputs": []
    },
    {
      "cell_type": "code",
      "source": [
        "!kaggle datasets list"
      ],
      "metadata": {
        "id": "lmpYk3LaDG0K"
      },
      "execution_count": null,
      "outputs": []
    },
    {
      "cell_type": "code",
      "source": [
        "!kaggle config set -n path -v drive/MyDrive/ML_DATABASE/"
      ],
      "metadata": {
        "colab": {
          "base_uri": "https://localhost:8080/"
        },
        "id": "jQDK9MhPEuyQ",
        "outputId": "90ab0058-f173-412e-b4c8-e933a38d3ad2"
      },
      "execution_count": null,
      "outputs": [
        {
          "output_type": "stream",
          "name": "stdout",
          "text": [
            "- path is now set to: drive/MyDrive/ML_DATABASE/\n"
          ]
        }
      ]
    },
    {
      "cell_type": "code",
      "source": [
        "!kaggle datasets download --unzip andradaolteanu/gtzan-dataset-music-genre-classification --force"
      ],
      "metadata": {
        "colab": {
          "base_uri": "https://localhost:8080/"
        },
        "id": "F2hKiVRkDsZo",
        "outputId": "c94b303a-c407-4e52-f7d0-31874f1f0070"
      },
      "execution_count": null,
      "outputs": [
        {
          "output_type": "stream",
          "name": "stdout",
          "text": [
            "Downloading gtzan-dataset-music-genre-classification.zip to drive/MyDrive/ML_DATABASE/datasets/andradaolteanu/gtzan-dataset-music-genre-classification\n",
            "100% 1.21G/1.21G [00:30<00:00, 45.5MB/s]\n",
            "100% 1.21G/1.21G [00:30<00:00, 42.5MB/s]\n"
          ]
        }
      ]
    },
    {
      "cell_type": "code",
      "source": [
        "os.listdir(\"drive/MyDrive/ML_DATABASE\")"
      ],
      "metadata": {
        "id": "Bh3aCVvjKt7I"
      },
      "execution_count": null,
      "outputs": []
    },
    {
      "cell_type": "markdown",
      "source": [
        "---\n",
        "---"
      ],
      "metadata": {
        "id": "kcF47LmF9Aww"
      }
    },
    {
      "cell_type": "markdown",
      "source": [
        "# Conv1D"
      ],
      "metadata": {
        "id": "1l381I3vMZ_s"
      }
    },
    {
      "cell_type": "markdown",
      "source": [
        "### Importaciones"
      ],
      "metadata": {
        "id": "CP9ieecVO3Et"
      }
    },
    {
      "cell_type": "code",
      "source": [
        "import librosa\n",
        "import numpy as np\n",
        "import tensorflow as tf\n",
        "from sklearn.model_selection import train_test_split\n",
        "from sklearn.preprocessing import LabelEncoder\n",
        "from keras.models import Sequential\n",
        "from keras.layers import Conv1D, MaxPooling1D, Dense, Dropout, Flatten\n",
        "from keras.layers import BatchNormalization, Activation\n",
        "from keras.utils import to_categorical"
      ],
      "metadata": {
        "id": "6gsJspMiO753"
      },
      "execution_count": null,
      "outputs": []
    },
    {
      "cell_type": "markdown",
      "source": [
        "### Asegurando el uso de gpu para la creacion, sosten y uso de la red convolucional"
      ],
      "metadata": {
        "id": "uk_hYDGaeQxz"
      }
    },
    {
      "cell_type": "code",
      "source": [
        "device_name = tf.test.gpu_device_name()\n",
        "\n",
        "assert device_name == '/device:GPU:0', \"mira la nota a la derecha para activar el uso de GPU\"\n",
        "\n",
        "print('se encontro una gpu')"
      ],
      "metadata": {
        "colab": {
          "base_uri": "https://localhost:8080/"
        },
        "id": "cGoC22BPeioH",
        "outputId": "ff6f597e-d0ae-490d-acd0-ba959ecb55ea"
      },
      "execution_count": null,
      "outputs": [
        {
          "output_type": "stream",
          "name": "stdout",
          "text": [
            "se encontro una gpu\n"
          ]
        }
      ]
    },
    {
      "cell_type": "code",
      "source": [
        "path = \"/content/drive/My Drive/ML_DATABASE/datasets/andradaolteanu/gtzan-dataset-music-genre-classification/Data/genres_original\"\n",
        "# path = \"/content/drive/My Drive/ML_DATABASE/datasets/pequedataset\"\n",
        "assert os.listdir(path)"
      ],
      "metadata": {
        "id": "wVna4lC8_LVR"
      },
      "execution_count": null,
      "outputs": []
    },
    {
      "cell_type": "markdown",
      "source": [
        "---\n",
        "---\n",
        "## <center>Trabajo con espectogramas</center>\n",
        "\n",
        "---\n",
        "---"
      ],
      "metadata": {
        "id": "tSYMUXsYhh5c"
      }
    },
    {
      "cell_type": "code",
      "source": [
        "!pip install opencv"
      ],
      "metadata": {
        "id": "ZPRfVzWU6r8C"
      },
      "execution_count": null,
      "outputs": []
    },
    {
      "cell_type": "code",
      "source": [
        "histograms_path = \"/content/drive/My Drive/ML_DATABASE/datasets/andradaolteanu/gtzan-dataset-music-genre-classification/Data/images_original\"\n",
        "\n",
        "import cv2\n",
        "songs = []\n",
        "genres = []\n",
        "\n",
        "image_1d_shape = 373248\n",
        "\n",
        "for genero in os.listdir(histograms_path):\n",
        "  for histogram in os.listdir(os.path.join(histograms_path, genero)):\n",
        "    song = cv2.imread(os.path.join(os.path.join(histograms_path, genero), histogram))\n",
        "    songs.append(np.reshape(song, (image_1d_shape,))[:100000])\n",
        "    genres.append(genero)\n",
        "  print(f\"{genero} leido\")\n",
        "\n",
        "X, y = np.array(songs), np.array(genres)"
      ],
      "metadata": {
        "id": "81YOZpx1hiU_",
        "colab": {
          "base_uri": "https://localhost:8080/"
        },
        "outputId": "4936a0eb-55d9-4f90-dee2-ff81013655ae"
      },
      "execution_count": null,
      "outputs": [
        {
          "output_type": "stream",
          "name": "stdout",
          "text": [
            "blues leido\n",
            "classical leido\n",
            "country leido\n",
            "disco leido\n",
            "hiphop leido\n",
            "jazz leido\n",
            "metal leido\n",
            "pop leido\n",
            "reggae leido\n",
            "rock leido\n"
          ]
        }
      ]
    },
    {
      "cell_type": "code",
      "source": [
        "with tf.device('/device:GPU:0'):\n",
        "\n",
        "  # ENCODE LABELS\n",
        "  encoder = LabelEncoder()\n",
        "  y = encoder.fit_transform(y)\n",
        "  y = to_categorical(y, num_classes=10)  # Assuming 10 genres\n",
        "\n",
        "  # PARTICIONAR LOS DATOS\n",
        "  X_train, X_test, y_train, y_test = train_test_split(X, y, test_size=0.2, random_state=42)\n",
        "  X_train, X_val, y_train, y_val = train_test_split(X_train, y_train, test_size=0.2, random_state=42)\n",
        "\n",
        "  # REMODELAR LOS DATOS\n",
        "  X_train = X_train.reshape(X_train.shape[0], X_train.shape[1], 1)\n",
        "  X_val = X_val.reshape(X_val.shape[0], X_val.shape[1], 1)\n",
        "  X_test = X_test.reshape(X_test.shape[0], X_test.shape[1], 1)\n",
        "\n",
        "  # MODELO DE CNN 1D BASADO EN LA ARQUITECTURA ResNet\n",
        "  model = Sequential()\n",
        "\n",
        "  # PRIMERA CAPA DE CONVOLUCION\n",
        "  model.add(Conv1D(64, kernel_size=3, strides=1, padding=\"same\", input_shape=(X_train.shape[1], 1)))\n",
        "  model.add(BatchNormalization())\n",
        "  model.add(Activation(\"relu\"))\n",
        "\n",
        "  # BLOQUES RESIDUALES\n",
        "  for _ in range(1):\n",
        "      model.add(Conv1D(16, kernel_size=3, strides=1, padding=\"same\"))\n",
        "      model.add(BatchNormalization())\n",
        "      model.add(Activation(\"relu\"))\n",
        "      model.add(Conv1D(16, kernel_size=3, strides=1, padding=\"same\"))\n",
        "      model.add(BatchNormalization())\n",
        "      model.add(Activation(\"relu\"))\n",
        "\n",
        "  # CAPA DE POOLING\n",
        "  model.add(MaxPooling1D(pool_size=2, strides=2))\n",
        "\n",
        "  # CAPA CONECTADA COMPLETAMENTE\n",
        "  model.add(Flatten())\n",
        "  model.add(Dense(64, activation=\"relu\"))\n",
        "  model.add(Dropout(0.5))\n",
        "  model.add(Dense(10, activation=\"softmax\"))  # Assuming 10 genres\n",
        "\n",
        "  # COMPILACION DEL MODELO\n",
        "  model.compile(loss=tf.keras.losses.categorical_crossentropy, optimizer=tf.keras.optimizers.Adam(), metrics=[\"accuracy\"])\n",
        "\n",
        "  # ENTRENAMIENTO\n",
        "  model.fit(X_train, y_train, batch_size=80, epochs=100, validation_data=(X_val, y_val))\n",
        "  # model.save(\"drive/MyDrive/Conv1D(spectograms).h5\")"
      ],
      "metadata": {
        "id": "OHWQKoMFxmir",
        "colab": {
          "base_uri": "https://localhost:8080/"
        },
        "outputId": "f02ebbab-a094-45c0-d6ae-2b8be60495ab"
      },
      "execution_count": null,
      "outputs": [
        {
          "output_type": "stream",
          "name": "stdout",
          "text": [
            "Epoch 1/100\n",
            "8/8 [==============================] - 22s 2s/step - loss: 114.6374 - accuracy: 0.1064 - val_loss: 2.3028 - val_accuracy: 0.0688\n",
            "Epoch 2/100\n",
            "8/8 [==============================] - 7s 921ms/step - loss: 2.3904 - accuracy: 0.1033 - val_loss: 2.3029 - val_accuracy: 0.0688\n",
            "Epoch 3/100\n",
            "8/8 [==============================] - 7s 921ms/step - loss: 2.3026 - accuracy: 0.1049 - val_loss: 2.3030 - val_accuracy: 0.0688\n",
            "Epoch 4/100\n",
            "8/8 [==============================] - 7s 926ms/step - loss: 2.3025 - accuracy: 0.1049 - val_loss: 2.3031 - val_accuracy: 0.0688\n",
            "Epoch 5/100\n",
            "8/8 [==============================] - 8s 952ms/step - loss: 2.3024 - accuracy: 0.1049 - val_loss: 2.3031 - val_accuracy: 0.0688\n",
            "Epoch 6/100\n",
            "8/8 [==============================] - 7s 928ms/step - loss: 2.3024 - accuracy: 0.0876 - val_loss: 2.3031 - val_accuracy: 0.1063\n",
            "Epoch 7/100\n",
            "8/8 [==============================] - 7s 928ms/step - loss: 2.3023 - accuracy: 0.1111 - val_loss: 2.3031 - val_accuracy: 0.1063\n",
            "Epoch 8/100\n",
            "8/8 [==============================] - 8s 964ms/step - loss: 2.3023 - accuracy: 0.1111 - val_loss: 2.3032 - val_accuracy: 0.1063\n",
            "Epoch 9/100\n",
            "8/8 [==============================] - 7s 935ms/step - loss: 2.3022 - accuracy: 0.1111 - val_loss: 2.3032 - val_accuracy: 0.1063\n",
            "Epoch 10/100\n",
            "8/8 [==============================] - 7s 941ms/step - loss: 2.3021 - accuracy: 0.1111 - val_loss: 2.3032 - val_accuracy: 0.1063\n",
            "Epoch 11/100\n",
            "8/8 [==============================] - 7s 932ms/step - loss: 2.3021 - accuracy: 0.1111 - val_loss: 2.3033 - val_accuracy: 0.1063\n",
            "Epoch 12/100\n",
            "8/8 [==============================] - 8s 963ms/step - loss: 2.3021 - accuracy: 0.1111 - val_loss: 2.3034 - val_accuracy: 0.1063\n",
            "Epoch 13/100\n",
            "8/8 [==============================] - 7s 945ms/step - loss: 2.3020 - accuracy: 0.1111 - val_loss: 2.3034 - val_accuracy: 0.1063\n",
            "Epoch 14/100\n",
            "8/8 [==============================] - 8s 965ms/step - loss: 2.3019 - accuracy: 0.1111 - val_loss: 2.3035 - val_accuracy: 0.1063\n",
            "Epoch 15/100\n",
            "8/8 [==============================] - 7s 939ms/step - loss: 2.3019 - accuracy: 0.1111 - val_loss: 2.3035 - val_accuracy: 0.1063\n",
            "Epoch 16/100\n",
            "8/8 [==============================] - 7s 941ms/step - loss: 2.3018 - accuracy: 0.1111 - val_loss: 2.3035 - val_accuracy: 0.1063\n",
            "Epoch 17/100\n",
            "8/8 [==============================] - 7s 938ms/step - loss: 2.3018 - accuracy: 0.1111 - val_loss: 2.3036 - val_accuracy: 0.1063\n",
            "Epoch 18/100\n",
            "8/8 [==============================] - 8s 961ms/step - loss: 2.3017 - accuracy: 0.1111 - val_loss: 2.3036 - val_accuracy: 0.1063\n",
            "Epoch 19/100\n",
            "8/8 [==============================] - 7s 939ms/step - loss: 2.3017 - accuracy: 0.1111 - val_loss: 2.3037 - val_accuracy: 0.1063\n",
            "Epoch 20/100\n",
            "8/8 [==============================] - 8s 960ms/step - loss: 2.3016 - accuracy: 0.1111 - val_loss: 2.3037 - val_accuracy: 0.1063\n",
            "Epoch 21/100\n",
            "8/8 [==============================] - 7s 936ms/step - loss: 2.3016 - accuracy: 0.1111 - val_loss: 2.3038 - val_accuracy: 0.1063\n",
            "Epoch 22/100\n",
            "8/8 [==============================] - 8s 961ms/step - loss: 2.3015 - accuracy: 0.1111 - val_loss: 2.3038 - val_accuracy: 0.1063\n",
            "Epoch 23/100\n",
            "8/8 [==============================] - 8s 961ms/step - loss: 2.3015 - accuracy: 0.1111 - val_loss: 2.3039 - val_accuracy: 0.1063\n",
            "Epoch 24/100\n",
            "8/8 [==============================] - 7s 939ms/step - loss: 2.3014 - accuracy: 0.1111 - val_loss: 2.3040 - val_accuracy: 0.1063\n",
            "Epoch 25/100\n",
            "8/8 [==============================] - 7s 941ms/step - loss: 2.3014 - accuracy: 0.1111 - val_loss: 2.3040 - val_accuracy: 0.1063\n",
            "Epoch 26/100\n",
            "8/8 [==============================] - 7s 939ms/step - loss: 2.3013 - accuracy: 0.1111 - val_loss: 2.3040 - val_accuracy: 0.1063\n",
            "Epoch 27/100\n",
            "8/8 [==============================] - 8s 963ms/step - loss: 2.3013 - accuracy: 0.1111 - val_loss: 2.3041 - val_accuracy: 0.1063\n",
            "Epoch 28/100\n",
            "8/8 [==============================] - 8s 961ms/step - loss: 2.3013 - accuracy: 0.1111 - val_loss: 2.3042 - val_accuracy: 0.1063\n",
            "Epoch 29/100\n",
            "8/8 [==============================] - 8s 963ms/step - loss: 2.3012 - accuracy: 0.1111 - val_loss: 2.3042 - val_accuracy: 0.1063\n",
            "Epoch 30/100\n",
            "8/8 [==============================] - 7s 940ms/step - loss: 2.3012 - accuracy: 0.1111 - val_loss: 2.3043 - val_accuracy: 0.1063\n",
            "Epoch 31/100\n",
            "8/8 [==============================] - 8s 963ms/step - loss: 2.3012 - accuracy: 0.1111 - val_loss: 2.3044 - val_accuracy: 0.1063\n",
            "Epoch 32/100\n",
            "8/8 [==============================] - 8s 960ms/step - loss: 2.3011 - accuracy: 0.1111 - val_loss: 2.3044 - val_accuracy: 0.1063\n",
            "Epoch 33/100\n",
            "8/8 [==============================] - 7s 939ms/step - loss: 2.3011 - accuracy: 0.1111 - val_loss: 2.3044 - val_accuracy: 0.1063\n",
            "Epoch 34/100\n",
            "8/8 [==============================] - 7s 938ms/step - loss: 2.3011 - accuracy: 0.1111 - val_loss: 2.3044 - val_accuracy: 0.1063\n",
            "Epoch 35/100\n",
            "8/8 [==============================] - 7s 938ms/step - loss: 2.3010 - accuracy: 0.1111 - val_loss: 2.3045 - val_accuracy: 0.1063\n",
            "Epoch 36/100\n",
            "8/8 [==============================] - 7s 939ms/step - loss: 2.3010 - accuracy: 0.1111 - val_loss: 2.3046 - val_accuracy: 0.1063\n",
            "Epoch 37/100\n",
            "8/8 [==============================] - 8s 960ms/step - loss: 2.3010 - accuracy: 0.1111 - val_loss: 2.3047 - val_accuracy: 0.1063\n",
            "Epoch 38/100\n",
            "8/8 [==============================] - 7s 939ms/step - loss: 2.3010 - accuracy: 0.1111 - val_loss: 2.3047 - val_accuracy: 0.1063\n",
            "Epoch 39/100\n",
            "8/8 [==============================] - 8s 960ms/step - loss: 2.3009 - accuracy: 0.1111 - val_loss: 2.3048 - val_accuracy: 0.1063\n",
            "Epoch 40/100\n",
            "8/8 [==============================] - 8s 966ms/step - loss: 2.3009 - accuracy: 0.1111 - val_loss: 2.3048 - val_accuracy: 0.1063\n",
            "Epoch 41/100\n",
            "8/8 [==============================] - 7s 937ms/step - loss: 2.3009 - accuracy: 0.1111 - val_loss: 2.3049 - val_accuracy: 0.1063\n",
            "Epoch 42/100\n",
            "8/8 [==============================] - 7s 941ms/step - loss: 2.3009 - accuracy: 0.1111 - val_loss: 2.3049 - val_accuracy: 0.1063\n",
            "Epoch 43/100\n",
            "8/8 [==============================] - 7s 937ms/step - loss: 2.3009 - accuracy: 0.1111 - val_loss: 2.3050 - val_accuracy: 0.1063\n",
            "Epoch 44/100\n",
            "8/8 [==============================] - 8s 962ms/step - loss: 2.3008 - accuracy: 0.1111 - val_loss: 2.3051 - val_accuracy: 0.1063\n",
            "Epoch 45/100\n",
            "8/8 [==============================] - 8s 963ms/step - loss: 2.3008 - accuracy: 0.1111 - val_loss: 2.3051 - val_accuracy: 0.1063\n",
            "Epoch 46/100\n",
            "8/8 [==============================] - 7s 940ms/step - loss: 2.3008 - accuracy: 0.1111 - val_loss: 2.3052 - val_accuracy: 0.1063\n",
            "Epoch 47/100\n",
            "8/8 [==============================] - 8s 963ms/step - loss: 2.3008 - accuracy: 0.1111 - val_loss: 2.3052 - val_accuracy: 0.1063\n",
            "Epoch 48/100\n",
            "8/8 [==============================] - 7s 938ms/step - loss: 2.3008 - accuracy: 0.1111 - val_loss: 2.3053 - val_accuracy: 0.1063\n",
            "Epoch 49/100\n",
            "8/8 [==============================] - 7s 944ms/step - loss: 2.3008 - accuracy: 0.1111 - val_loss: 2.3054 - val_accuracy: 0.1063\n",
            "Epoch 50/100\n",
            "8/8 [==============================] - 8s 962ms/step - loss: 2.3007 - accuracy: 0.1111 - val_loss: 2.3054 - val_accuracy: 0.1063\n",
            "Epoch 51/100\n",
            "8/8 [==============================] - 7s 940ms/step - loss: 2.3007 - accuracy: 0.1111 - val_loss: 2.3054 - val_accuracy: 0.1063\n",
            "Epoch 52/100\n",
            "8/8 [==============================] - 7s 938ms/step - loss: 2.3007 - accuracy: 0.1111 - val_loss: 2.3055 - val_accuracy: 0.1063\n",
            "Epoch 53/100\n",
            "8/8 [==============================] - 7s 938ms/step - loss: 2.3007 - accuracy: 0.1111 - val_loss: 2.3055 - val_accuracy: 0.1063\n",
            "Epoch 54/100\n",
            "8/8 [==============================] - 7s 937ms/step - loss: 2.3007 - accuracy: 0.1111 - val_loss: 2.3056 - val_accuracy: 0.1063\n",
            "Epoch 55/100\n",
            "8/8 [==============================] - 7s 939ms/step - loss: 2.3006 - accuracy: 0.1111 - val_loss: 2.3056 - val_accuracy: 0.1063\n",
            "Epoch 56/100\n",
            "8/8 [==============================] - 7s 937ms/step - loss: 2.3006 - accuracy: 0.1111 - val_loss: 2.3056 - val_accuracy: 0.1063\n",
            "Epoch 57/100\n",
            "8/8 [==============================] - 7s 939ms/step - loss: 2.3006 - accuracy: 0.1111 - val_loss: 2.3056 - val_accuracy: 0.1063\n",
            "Epoch 58/100\n",
            "8/8 [==============================] - 8s 959ms/step - loss: 2.3006 - accuracy: 0.1111 - val_loss: 2.3057 - val_accuracy: 0.1063\n",
            "Epoch 59/100\n",
            "8/8 [==============================] - 7s 937ms/step - loss: 2.3006 - accuracy: 0.1111 - val_loss: 2.3058 - val_accuracy: 0.1063\n",
            "Epoch 60/100\n",
            "8/8 [==============================] - 8s 963ms/step - loss: 2.3006 - accuracy: 0.1111 - val_loss: 2.3058 - val_accuracy: 0.1063\n",
            "Epoch 61/100\n",
            "8/8 [==============================] - 8s 960ms/step - loss: 2.3006 - accuracy: 0.1111 - val_loss: 2.3058 - val_accuracy: 0.1063\n",
            "Epoch 62/100\n",
            "3/8 [==========>...................] - ETA: 4s - loss: 2.3003 - accuracy: 0.1042"
          ]
        }
      ]
    },
    {
      "cell_type": "code",
      "source": [
        "del model, encoder, X_train, X_test, y_train, y_test, X_val, y_val\n",
        "# !nvidia-smi"
      ],
      "metadata": {
        "id": "hJUAxMNJPivg"
      },
      "execution_count": null,
      "outputs": []
    },
    {
      "cell_type": "markdown",
      "source": [
        "---\n",
        "---\n",
        "---"
      ],
      "metadata": {
        "id": "vo1PtMlghizI"
      }
    },
    {
      "cell_type": "markdown",
      "source": [
        "---\n",
        "---\n",
        "## <center>Trabajo con audios(Dataset virgen)</center>\n",
        "\n",
        "---\n",
        "---"
      ],
      "metadata": {
        "id": "UX4sHS4ChzCq"
      }
    },
    {
      "cell_type": "markdown",
      "source": [
        "### Lectura del dataset"
      ],
      "metadata": {
        "id": "TouAnLqWTEee"
      }
    },
    {
      "cell_type": "code",
      "source": [
        "# CARGAR UN ARCHIVO DE AUDIO\n",
        "def load_audio_file(file_path):\n",
        "    input_length = 100000  # Esto es 15 segundos con una frecuencia de muestreo de 44100.\n",
        "    data = librosa.core.load(file_path, sr=22050)[0]  # Utilizamos librosa para cargar un archivo de audio con una frecuencia de muestreo de 22050.\n",
        "    if len(data) > input_length:\n",
        "        data = data[:input_length]\n",
        "    else:\n",
        "        data = np.pad(data, (0, max(0, input_length - len(data))), \"constant\")\n",
        "    return data\n"
      ],
      "metadata": {
        "id": "4Ba314P44V-F"
      },
      "execution_count": null,
      "outputs": []
    },
    {
      "cell_type": "code",
      "source": [
        "# CARGAR EL CONJUNTO DE DATOS\n",
        "def load_dataset(path):\n",
        "    genres = os.listdir(path)\n",
        "    X, y = [], []\n",
        "    for genre in genres:\n",
        "        if genre == \".ipynb_checkpoints\":\n",
        "          continue\n",
        "        genre_path = os.path.join(path, genre)\n",
        "        for file_name in os.listdir(genre_path):\n",
        "            if file_name == \".ipynb_checkpoints\":\n",
        "              continue\n",
        "            file_path = os.path.join(genre_path, file_name)\n",
        "            try:\n",
        "              data = load_audio_file(file_path)\n",
        "              # print(f\"audio {file_name} cargado\")\n",
        "            except:\n",
        "              print(f\"error con {file_name}\")\n",
        "              continue\n",
        "            X.append(data)\n",
        "            y.append(genre)\n",
        "        print(f\"genero {genre} completado\")\n",
        "    return np.array(X), np.array(y)\n",
        "\n"
      ],
      "metadata": {
        "id": "8SMaTsPa4p4x"
      },
      "execution_count": null,
      "outputs": []
    },
    {
      "cell_type": "code",
      "source": [
        "X, y = load_dataset(path)"
      ],
      "metadata": {
        "id": "_z9W8SD-dq8W",
        "colab": {
          "base_uri": "https://localhost:8080/"
        },
        "outputId": "876e8ce0-d8b0-434d-ceae-80b719ee8176"
      },
      "execution_count": null,
      "outputs": [
        {
          "output_type": "stream",
          "name": "stdout",
          "text": [
            "genero blues completado\n",
            "genero classical completado\n",
            "genero country completado\n",
            "genero disco completado\n",
            "genero hiphop completado\n",
            "genero jazz completado\n",
            "genero metal completado\n",
            "genero pop completado\n",
            "genero reggae completado\n",
            "genero rock completado\n"
          ]
        }
      ]
    },
    {
      "cell_type": "markdown",
      "source": [
        "### Creacion del modelo"
      ],
      "metadata": {
        "id": "OR5UrunIdnbx"
      }
    },
    {
      "cell_type": "code",
      "source": [
        "# ENCODE LABELS\n",
        "encoder = LabelEncoder()\n",
        "y = encoder.fit_transform(y)\n",
        "y = to_categorical(y, num_classes=10)  # Assuming 10 genres\n",
        "\n",
        "# PARTICIONAR LOS DATOS\n",
        "X_train, X_test, y_train, y_test = train_test_split(X, y, test_size=0.2, random_state=42)\n",
        "X_train, X_val, y_train, y_val = train_test_split(X_train, y_train, test_size=0.2, random_state=42)\n",
        "\n",
        "# REMODELAR LOS DATOS\n",
        "X_train = X_train.reshape(X_train.shape[0], X_train.shape[1], 1)\n",
        "X_val = X_val.reshape(X_val.shape[0], X_val.shape[1], 1)\n",
        "X_test = X_test.reshape(X_test.shape[0], X_test.shape[1], 1)\n",
        "\n",
        "# MODELO DE CNN 1D BASADO EN LA ARQUITECTURA ResNet\n",
        "model = Sequential()\n",
        "\n",
        "# PRIMERA CAPA DE CONVOLUCION\n",
        "model.add(Conv1D(32, kernel_size=3, strides=1, padding=\"same\", input_shape=(X_train.shape[1], 1)))\n",
        "model.add(BatchNormalization())\n",
        "model.add(Activation(\"relu\"))\n",
        "\n",
        "# BLOQUES RESIDUALES\n",
        "for _ in range(1):\n",
        "    model.add(Conv1D(16, kernel_size=3, strides=1, padding=\"same\"))\n",
        "    model.add(BatchNormalization())\n",
        "    model.add(Activation(\"relu\"))\n",
        "    model.add(Conv1D(16, kernel_size=3, strides=1, padding=\"same\"))\n",
        "    model.add(BatchNormalization())\n",
        "    model.add(Activation(\"relu\"))\n",
        "\n",
        "# CAPA DE POOLING\n",
        "model.add(MaxPooling1D(pool_size=2, strides=2))\n",
        "\n",
        "# CAPA CONECTADA COMPLETAMENTE\n",
        "model.add(Flatten())\n",
        "model.add(Dense(16, activation=\"relu\"))\n",
        "model.add(Dropout(0.5))\n",
        "model.add(Dense(10, activation=\"softmax\"))  # Assuming 10 genres\n",
        "\n",
        "# COMPILACION DEL MODELO\n",
        "model.compile(loss=tf.keras.losses.categorical_crossentropy, optimizer=tf.keras.optimizers.Adam(), metrics=[\"accuracy\"])\n",
        "\n",
        "# with tf.device('/device:GPU:0'):\n",
        "  # ENTRENAMIENTO\n",
        "model.fit(X_train, y_train, batch_size=80, epochs=100, validation_data=(X_val, y_val))\n",
        "# model.save(\"drive/MyDrive/Conv1D.h5\")\n"
      ],
      "metadata": {
        "id": "tZrY7nJJ43Ws",
        "colab": {
          "base_uri": "https://localhost:8080/"
        },
        "outputId": "8f14e3f4-01bd-4355-e39e-38601da1adda"
      },
      "execution_count": null,
      "outputs": [
        {
          "output_type": "stream",
          "name": "stdout",
          "text": [
            "Epoch 1/100\n",
            "9/9 [==============================] - 22s 705ms/step - loss: 10.8308 - accuracy: 0.0949 - val_loss: 2.3025 - val_accuracy: 0.1180\n",
            "Epoch 2/100\n",
            "9/9 [==============================] - 5s 550ms/step - loss: 2.3025 - accuracy: 0.1058 - val_loss: 2.3027 - val_accuracy: 0.1118\n",
            "Epoch 3/100\n",
            "9/9 [==============================] - 5s 562ms/step - loss: 2.3607 - accuracy: 0.1120 - val_loss: 2.3029 - val_accuracy: 0.0932\n",
            "Epoch 4/100\n",
            "9/9 [==============================] - 5s 591ms/step - loss: 2.3023 - accuracy: 0.0980 - val_loss: 2.3030 - val_accuracy: 0.0932\n",
            "Epoch 5/100\n",
            "9/9 [==============================] - 5s 591ms/step - loss: 2.3022 - accuracy: 0.0980 - val_loss: 2.3032 - val_accuracy: 0.0932\n",
            "Epoch 6/100\n",
            "9/9 [==============================] - 5s 593ms/step - loss: 2.3022 - accuracy: 0.0871 - val_loss: 2.3033 - val_accuracy: 0.0745\n",
            "Epoch 7/100\n",
            "9/9 [==============================] - 5s 591ms/step - loss: 2.3021 - accuracy: 0.0995 - val_loss: 2.3035 - val_accuracy: 0.0745\n",
            "Epoch 8/100\n",
            "9/9 [==============================] - 5s 593ms/step - loss: 2.3020 - accuracy: 0.0995 - val_loss: 2.3038 - val_accuracy: 0.0745\n",
            "Epoch 9/100\n",
            "9/9 [==============================] - 5s 559ms/step - loss: 2.3019 - accuracy: 0.0995 - val_loss: 2.3037 - val_accuracy: 0.0745\n",
            "Epoch 10/100\n",
            "9/9 [==============================] - 5s 594ms/step - loss: 2.3019 - accuracy: 0.0995 - val_loss: 2.3039 - val_accuracy: 0.1118\n",
            "Epoch 11/100\n",
            "9/9 [==============================] - 5s 596ms/step - loss: 2.3017 - accuracy: 0.1089 - val_loss: 2.3042 - val_accuracy: 0.1118\n",
            "Epoch 12/100\n",
            "9/9 [==============================] - 5s 564ms/step - loss: 2.3016 - accuracy: 0.1089 - val_loss: 2.3043 - val_accuracy: 0.1118\n",
            "Epoch 13/100\n",
            "9/9 [==============================] - 5s 558ms/step - loss: 2.3014 - accuracy: 0.1089 - val_loss: 2.3046 - val_accuracy: 0.1118\n",
            "Epoch 14/100\n",
            "9/9 [==============================] - 5s 565ms/step - loss: 2.3013 - accuracy: 0.1089 - val_loss: 2.3048 - val_accuracy: 0.0807\n",
            "Epoch 15/100\n",
            "9/9 [==============================] - 5s 559ms/step - loss: 2.3012 - accuracy: 0.1135 - val_loss: 2.3051 - val_accuracy: 0.0807\n",
            "Epoch 16/100\n",
            "9/9 [==============================] - 5s 563ms/step - loss: 2.3010 - accuracy: 0.1135 - val_loss: 2.3054 - val_accuracy: 0.0807\n",
            "Epoch 17/100\n",
            "9/9 [==============================] - 5s 598ms/step - loss: 2.3009 - accuracy: 0.1135 - val_loss: 2.3056 - val_accuracy: 0.0807\n",
            "Epoch 18/100\n",
            "9/9 [==============================] - 5s 614ms/step - loss: 2.3008 - accuracy: 0.1135 - val_loss: 2.3059 - val_accuracy: 0.0807\n",
            "Epoch 19/100\n",
            "9/9 [==============================] - 5s 589ms/step - loss: 2.3006 - accuracy: 0.1135 - val_loss: 2.3062 - val_accuracy: 0.0807\n",
            "Epoch 20/100\n",
            "9/9 [==============================] - 5s 599ms/step - loss: 2.3005 - accuracy: 0.1135 - val_loss: 2.3063 - val_accuracy: 0.0807\n",
            "Epoch 21/100\n",
            "9/9 [==============================] - 5s 612ms/step - loss: 2.3004 - accuracy: 0.1135 - val_loss: 2.3065 - val_accuracy: 0.0807\n",
            "Epoch 22/100\n",
            "9/9 [==============================] - 5s 609ms/step - loss: 2.3003 - accuracy: 0.1135 - val_loss: 2.3069 - val_accuracy: 0.0807\n",
            "Epoch 23/100\n",
            "9/9 [==============================] - 5s 563ms/step - loss: 2.3002 - accuracy: 0.1135 - val_loss: 2.3069 - val_accuracy: 0.0807\n",
            "Epoch 24/100\n",
            "9/9 [==============================] - 5s 559ms/step - loss: 2.3001 - accuracy: 0.1135 - val_loss: 2.3071 - val_accuracy: 0.0807\n",
            "Epoch 25/100\n",
            "9/9 [==============================] - 5s 579ms/step - loss: 2.3000 - accuracy: 0.1135 - val_loss: 2.3072 - val_accuracy: 0.0807\n",
            "Epoch 26/100\n",
            "9/9 [==============================] - 5s 598ms/step - loss: 2.3000 - accuracy: 0.1104 - val_loss: 2.3076 - val_accuracy: 0.1180\n",
            "Epoch 27/100\n",
            "9/9 [==============================] - 5s 600ms/step - loss: 2.2998 - accuracy: 0.1058 - val_loss: 2.3078 - val_accuracy: 0.1180\n",
            "Epoch 28/100\n",
            "9/9 [==============================] - 5s 568ms/step - loss: 2.2997 - accuracy: 0.1166 - val_loss: 2.3082 - val_accuracy: 0.0807\n",
            "Epoch 29/100\n",
            "9/9 [==============================] - 5s 565ms/step - loss: 2.2996 - accuracy: 0.1135 - val_loss: 2.3087 - val_accuracy: 0.0807\n",
            "Epoch 30/100\n",
            "9/9 [==============================] - 5s 603ms/step - loss: 2.2994 - accuracy: 0.1135 - val_loss: 2.3089 - val_accuracy: 0.0807\n",
            "Epoch 31/100\n",
            "9/9 [==============================] - 5s 603ms/step - loss: 2.2994 - accuracy: 0.1135 - val_loss: 2.3090 - val_accuracy: 0.0807\n",
            "Epoch 32/100\n",
            "9/9 [==============================] - 6s 616ms/step - loss: 2.2994 - accuracy: 0.1135 - val_loss: 2.3091 - val_accuracy: 0.0807\n",
            "Epoch 33/100\n",
            "9/9 [==============================] - 6s 622ms/step - loss: 2.2993 - accuracy: 0.1135 - val_loss: 2.3094 - val_accuracy: 0.0807\n",
            "Epoch 34/100\n",
            "9/9 [==============================] - 5s 592ms/step - loss: 2.2993 - accuracy: 0.1135 - val_loss: 2.3095 - val_accuracy: 0.0807\n",
            "Epoch 35/100\n",
            "9/9 [==============================] - 5s 607ms/step - loss: 2.2992 - accuracy: 0.1135 - val_loss: 2.3098 - val_accuracy: 0.0807\n",
            "Epoch 36/100\n",
            "9/9 [==============================] - 5s 603ms/step - loss: 2.2992 - accuracy: 0.1073 - val_loss: 2.3102 - val_accuracy: 0.0559\n",
            "Epoch 37/100\n",
            "9/9 [==============================] - 5s 601ms/step - loss: 2.2991 - accuracy: 0.1120 - val_loss: 2.3102 - val_accuracy: 0.0559\n",
            "Epoch 38/100\n",
            "9/9 [==============================] - 5s 608ms/step - loss: 2.2991 - accuracy: 0.1120 - val_loss: 2.3101 - val_accuracy: 0.0559\n",
            "Epoch 39/100\n",
            "9/9 [==============================] - 5s 575ms/step - loss: 2.2990 - accuracy: 0.1120 - val_loss: 2.3102 - val_accuracy: 0.0559\n",
            "Epoch 40/100\n",
            "9/9 [==============================] - 5s 582ms/step - loss: 2.2990 - accuracy: 0.1120 - val_loss: 2.3103 - val_accuracy: 0.0559\n",
            "Epoch 41/100\n",
            "9/9 [==============================] - 5s 572ms/step - loss: 2.2989 - accuracy: 0.1058 - val_loss: 2.3103 - val_accuracy: 0.0807\n",
            "Epoch 42/100\n",
            "9/9 [==============================] - 5s 605ms/step - loss: 2.2988 - accuracy: 0.1135 - val_loss: 2.3103 - val_accuracy: 0.0807\n",
            "Epoch 43/100\n",
            "9/9 [==============================] - 5s 570ms/step - loss: 2.2988 - accuracy: 0.1120 - val_loss: 2.3103 - val_accuracy: 0.1118\n",
            "Epoch 44/100\n",
            "9/9 [==============================] - 5s 566ms/step - loss: 2.2988 - accuracy: 0.1089 - val_loss: 2.3104 - val_accuracy: 0.1118\n",
            "Epoch 45/100\n",
            "9/9 [==============================] - 5s 566ms/step - loss: 2.2988 - accuracy: 0.1011 - val_loss: 2.3104 - val_accuracy: 0.1118\n",
            "Epoch 46/100\n",
            "9/9 [==============================] - 5s 606ms/step - loss: 2.2988 - accuracy: 0.1089 - val_loss: 2.3104 - val_accuracy: 0.1118\n",
            "Epoch 47/100\n",
            "9/9 [==============================] - 5s 568ms/step - loss: 2.2987 - accuracy: 0.1073 - val_loss: 2.3104 - val_accuracy: 0.1118\n",
            "Epoch 48/100\n",
            "9/9 [==============================] - 5s 605ms/step - loss: 2.2987 - accuracy: 0.1089 - val_loss: 2.3105 - val_accuracy: 0.1118\n",
            "Epoch 49/100\n",
            "9/9 [==============================] - 5s 605ms/step - loss: 2.2987 - accuracy: 0.1089 - val_loss: 2.3107 - val_accuracy: 0.1118\n",
            "Epoch 50/100\n",
            "9/9 [==============================] - 5s 568ms/step - loss: 2.2987 - accuracy: 0.1089 - val_loss: 2.3109 - val_accuracy: 0.1118\n",
            "Epoch 51/100\n",
            "9/9 [==============================] - 5s 571ms/step - loss: 2.2986 - accuracy: 0.1089 - val_loss: 2.3109 - val_accuracy: 0.1118\n",
            "Epoch 52/100\n",
            "9/9 [==============================] - 5s 603ms/step - loss: 2.2986 - accuracy: 0.1089 - val_loss: 2.3111 - val_accuracy: 0.1118\n",
            "Epoch 53/100\n",
            "9/9 [==============================] - 5s 605ms/step - loss: 2.2985 - accuracy: 0.1089 - val_loss: 2.3113 - val_accuracy: 0.1118\n",
            "Epoch 54/100\n",
            "9/9 [==============================] - 5s 583ms/step - loss: 2.2985 - accuracy: 0.1089 - val_loss: 2.3114 - val_accuracy: 0.1118\n",
            "Epoch 55/100\n",
            "9/9 [==============================] - 5s 570ms/step - loss: 2.2984 - accuracy: 0.1089 - val_loss: 2.3114 - val_accuracy: 0.1118\n",
            "Epoch 56/100\n",
            "9/9 [==============================] - 5s 605ms/step - loss: 2.2984 - accuracy: 0.1089 - val_loss: 2.3116 - val_accuracy: 0.1118\n",
            "Epoch 57/100\n",
            "9/9 [==============================] - 5s 567ms/step - loss: 2.2983 - accuracy: 0.1026 - val_loss: 2.3117 - val_accuracy: 0.0807\n",
            "Epoch 58/100\n",
            "9/9 [==============================] - 5s 568ms/step - loss: 2.2983 - accuracy: 0.1135 - val_loss: 2.3120 - val_accuracy: 0.0807\n",
            "Epoch 59/100\n",
            "9/9 [==============================] - 5s 569ms/step - loss: 2.2983 - accuracy: 0.1135 - val_loss: 2.3122 - val_accuracy: 0.0807\n",
            "Epoch 60/100\n",
            "9/9 [==============================] - 5s 602ms/step - loss: 2.2982 - accuracy: 0.1166 - val_loss: 2.3124 - val_accuracy: 0.0559\n",
            "Epoch 61/100\n",
            "9/9 [==============================] - 5s 605ms/step - loss: 2.2982 - accuracy: 0.1120 - val_loss: 2.3126 - val_accuracy: 0.0559\n",
            "Epoch 62/100\n",
            "9/9 [==============================] - 5s 568ms/step - loss: 2.2982 - accuracy: 0.1120 - val_loss: 2.3128 - val_accuracy: 0.0559\n",
            "Epoch 63/100\n",
            "9/9 [==============================] - 5s 570ms/step - loss: 2.2981 - accuracy: 0.1120 - val_loss: 2.3129 - val_accuracy: 0.0559\n",
            "Epoch 64/100\n",
            "9/9 [==============================] - 5s 605ms/step - loss: 2.2981 - accuracy: 0.1120 - val_loss: 2.3129 - val_accuracy: 0.0807\n",
            "Epoch 65/100\n",
            "9/9 [==============================] - 5s 601ms/step - loss: 2.2982 - accuracy: 0.1058 - val_loss: 2.3128 - val_accuracy: 0.1118\n",
            "Epoch 66/100\n",
            "9/9 [==============================] - 5s 604ms/step - loss: 2.2981 - accuracy: 0.1089 - val_loss: 2.3129 - val_accuracy: 0.1118\n",
            "Epoch 67/100\n",
            "9/9 [==============================] - 5s 604ms/step - loss: 2.2981 - accuracy: 0.1089 - val_loss: 2.3131 - val_accuracy: 0.1118\n",
            "Epoch 68/100\n",
            "9/9 [==============================] - 5s 569ms/step - loss: 2.2980 - accuracy: 0.1089 - val_loss: 2.3133 - val_accuracy: 0.1118\n",
            "Epoch 69/100\n",
            "9/9 [==============================] - 5s 574ms/step - loss: 2.2980 - accuracy: 0.1089 - val_loss: 2.3134 - val_accuracy: 0.1118\n",
            "Epoch 70/100\n",
            "9/9 [==============================] - 5s 602ms/step - loss: 2.2980 - accuracy: 0.1089 - val_loss: 2.3137 - val_accuracy: 0.1118\n",
            "Epoch 71/100\n",
            "9/9 [==============================] - 5s 569ms/step - loss: 2.2980 - accuracy: 0.1089 - val_loss: 2.3138 - val_accuracy: 0.1118\n",
            "Epoch 72/100\n",
            "9/9 [==============================] - 5s 572ms/step - loss: 2.2979 - accuracy: 0.1089 - val_loss: 2.3141 - val_accuracy: 0.1118\n",
            "Epoch 73/100\n",
            "9/9 [==============================] - 5s 603ms/step - loss: 2.2978 - accuracy: 0.1058 - val_loss: 2.3143 - val_accuracy: 0.0807\n",
            "Epoch 74/100\n",
            "9/9 [==============================] - 5s 606ms/step - loss: 2.2978 - accuracy: 0.1135 - val_loss: 2.3143 - val_accuracy: 0.0807\n",
            "Epoch 75/100\n",
            "9/9 [==============================] - 5s 566ms/step - loss: 2.2978 - accuracy: 0.1135 - val_loss: 2.3142 - val_accuracy: 0.0807\n",
            "Epoch 76/100\n",
            "9/9 [==============================] - 5s 569ms/step - loss: 2.2979 - accuracy: 0.1135 - val_loss: 2.3142 - val_accuracy: 0.0807\n",
            "Epoch 77/100\n",
            "9/9 [==============================] - 5s 570ms/step - loss: 2.2979 - accuracy: 0.1135 - val_loss: 2.3140 - val_accuracy: 0.0807\n",
            "Epoch 78/100\n",
            "9/9 [==============================] - 5s 567ms/step - loss: 2.2978 - accuracy: 0.1135 - val_loss: 2.3143 - val_accuracy: 0.0807\n",
            "Epoch 79/100\n",
            "9/9 [==============================] - 5s 572ms/step - loss: 2.2978 - accuracy: 0.1135 - val_loss: 2.3145 - val_accuracy: 0.0807\n",
            "Epoch 80/100\n",
            "9/9 [==============================] - 5s 569ms/step - loss: 2.2978 - accuracy: 0.1135 - val_loss: 2.3148 - val_accuracy: 0.0807\n",
            "Epoch 81/100\n",
            "9/9 [==============================] - 5s 567ms/step - loss: 2.2978 - accuracy: 0.1089 - val_loss: 2.3148 - val_accuracy: 0.0559\n",
            "Epoch 82/100\n",
            "9/9 [==============================] - 5s 609ms/step - loss: 2.2978 - accuracy: 0.1120 - val_loss: 2.3149 - val_accuracy: 0.0559\n",
            "Epoch 83/100\n",
            "9/9 [==============================] - 5s 600ms/step - loss: 2.2977 - accuracy: 0.1011 - val_loss: 2.3151 - val_accuracy: 0.0807\n",
            "Epoch 84/100\n",
            "9/9 [==============================] - 5s 566ms/step - loss: 2.2977 - accuracy: 0.1135 - val_loss: 2.3152 - val_accuracy: 0.0807\n",
            "Epoch 85/100\n",
            "9/9 [==============================] - 5s 572ms/step - loss: 2.2976 - accuracy: 0.1135 - val_loss: 2.3154 - val_accuracy: 0.0807\n",
            "Epoch 86/100\n",
            "9/9 [==============================] - 5s 600ms/step - loss: 2.2976 - accuracy: 0.1135 - val_loss: 2.3154 - val_accuracy: 0.0807\n",
            "Epoch 87/100\n",
            "9/9 [==============================] - 5s 570ms/step - loss: 2.2976 - accuracy: 0.1135 - val_loss: 2.3154 - val_accuracy: 0.0807\n",
            "Epoch 88/100\n",
            "9/9 [==============================] - 5s 603ms/step - loss: 2.2976 - accuracy: 0.1135 - val_loss: 2.3153 - val_accuracy: 0.0807\n",
            "Epoch 89/100\n",
            "9/9 [==============================] - 5s 568ms/step - loss: 2.2976 - accuracy: 0.1089 - val_loss: 2.3155 - val_accuracy: 0.0559\n",
            "Epoch 90/100\n",
            "9/9 [==============================] - 5s 606ms/step - loss: 2.2976 - accuracy: 0.1166 - val_loss: 2.3156 - val_accuracy: 0.0807\n",
            "Epoch 91/100\n",
            "9/9 [==============================] - 5s 602ms/step - loss: 2.2975 - accuracy: 0.1135 - val_loss: 2.3157 - val_accuracy: 0.0807\n",
            "Epoch 92/100\n",
            "9/9 [==============================] - 5s 569ms/step - loss: 2.2975 - accuracy: 0.1135 - val_loss: 2.3159 - val_accuracy: 0.0807\n",
            "Epoch 93/100\n",
            "9/9 [==============================] - 5s 603ms/step - loss: 2.2975 - accuracy: 0.1135 - val_loss: 2.3160 - val_accuracy: 0.0807\n",
            "Epoch 94/100\n",
            "9/9 [==============================] - 5s 602ms/step - loss: 2.2976 - accuracy: 0.1135 - val_loss: 2.3160 - val_accuracy: 0.0807\n",
            "Epoch 95/100\n",
            "9/9 [==============================] - 5s 573ms/step - loss: 2.2975 - accuracy: 0.1135 - val_loss: 2.3162 - val_accuracy: 0.0807\n",
            "Epoch 96/100\n",
            "9/9 [==============================] - 5s 566ms/step - loss: 2.2975 - accuracy: 0.1135 - val_loss: 2.3165 - val_accuracy: 0.0807\n",
            "Epoch 97/100\n",
            "9/9 [==============================] - 5s 568ms/step - loss: 2.2975 - accuracy: 0.1135 - val_loss: 2.3166 - val_accuracy: 0.0807\n",
            "Epoch 98/100\n",
            "9/9 [==============================] - 5s 605ms/step - loss: 2.2974 - accuracy: 0.1135 - val_loss: 2.3168 - val_accuracy: 0.0807\n",
            "Epoch 99/100\n",
            "9/9 [==============================] - 5s 565ms/step - loss: 2.2974 - accuracy: 0.1135 - val_loss: 2.3170 - val_accuracy: 0.0807\n",
            "Epoch 100/100\n",
            "9/9 [==============================] - 5s 570ms/step - loss: 2.2974 - accuracy: 0.1135 - val_loss: 2.3172 - val_accuracy: 0.0807\n"
          ]
        },
        {
          "output_type": "execute_result",
          "data": {
            "text/plain": [
              "<keras.callbacks.History at 0x7f04b23f1f00>"
            ]
          },
          "metadata": {},
          "execution_count": 12
        }
      ]
    },
    {
      "cell_type": "markdown",
      "source": [
        "---\n",
        "---\n",
        "---"
      ],
      "metadata": {
        "id": "kp8fp_XHhzC0"
      }
    },
    {
      "cell_type": "markdown",
      "source": [
        "## Resultados del entrenamiento"
      ],
      "metadata": {
        "id": "uhFrNmszEPGA"
      }
    },
    {
      "cell_type": "code",
      "source": [
        "import matplotlib.pyplot as plt\n",
        "\n",
        "accuracy = model.history.history['accuracy']\n",
        "val_accuracy = model.history.history['val_accuracy']\n",
        "accuracy\n",
        "val_accuracy"
      ],
      "metadata": {
        "colab": {
          "base_uri": "https://localhost:8080/"
        },
        "id": "5WlYp6HoEVWS",
        "outputId": "751da753-46e9-46c3-c6e9-fb6db95cc43c"
      },
      "execution_count": null,
      "outputs": [
        {
          "output_type": "execute_result",
          "data": {
            "text/plain": [
              "[0.11801242083311081,\n",
              " 0.11180124431848526,\n",
              " 0.09316769987344742,\n",
              " 0.09316769987344742,\n",
              " 0.09316769987344742,\n",
              " 0.07453416287899017,\n",
              " 0.07453416287899017,\n",
              " 0.07453416287899017,\n",
              " 0.07453416287899017,\n",
              " 0.11180124431848526,\n",
              " 0.11180124431848526,\n",
              " 0.11180124431848526,\n",
              " 0.11180124431848526,\n",
              " 0.08074533939361572,\n",
              " 0.08074533939361572,\n",
              " 0.08074533939361572,\n",
              " 0.08074533939361572,\n",
              " 0.08074533939361572,\n",
              " 0.08074533939361572,\n",
              " 0.08074533939361572,\n",
              " 0.08074533939361572,\n",
              " 0.08074533939361572,\n",
              " 0.08074533939361572,\n",
              " 0.08074533939361572,\n",
              " 0.08074533939361572,\n",
              " 0.11801242083311081,\n",
              " 0.11801242083311081,\n",
              " 0.08074533939361572,\n",
              " 0.08074533939361572,\n",
              " 0.08074533939361572,\n",
              " 0.08074533939361572,\n",
              " 0.08074533939361572,\n",
              " 0.08074533939361572,\n",
              " 0.08074533939361572,\n",
              " 0.08074533939361572,\n",
              " 0.05590062215924263,\n",
              " 0.05590062215924263,\n",
              " 0.05590062215924263,\n",
              " 0.05590062215924263,\n",
              " 0.05590062215924263,\n",
              " 0.08074533939361572,\n",
              " 0.08074533939361572,\n",
              " 0.11180124431848526,\n",
              " 0.11180124431848526,\n",
              " 0.11180124431848526,\n",
              " 0.11180124431848526,\n",
              " 0.11180124431848526,\n",
              " 0.11180124431848526,\n",
              " 0.11180124431848526,\n",
              " 0.11180124431848526,\n",
              " 0.11180124431848526,\n",
              " 0.11180124431848526,\n",
              " 0.11180124431848526,\n",
              " 0.11180124431848526,\n",
              " 0.11180124431848526,\n",
              " 0.11180124431848526,\n",
              " 0.08074533939361572,\n",
              " 0.08074533939361572,\n",
              " 0.08074533939361572,\n",
              " 0.05590062215924263,\n",
              " 0.05590062215924263,\n",
              " 0.05590062215924263,\n",
              " 0.05590062215924263,\n",
              " 0.08074533939361572,\n",
              " 0.11180124431848526,\n",
              " 0.11180124431848526,\n",
              " 0.11180124431848526,\n",
              " 0.11180124431848526,\n",
              " 0.11180124431848526,\n",
              " 0.11180124431848526,\n",
              " 0.11180124431848526,\n",
              " 0.11180124431848526,\n",
              " 0.08074533939361572,\n",
              " 0.08074533939361572,\n",
              " 0.08074533939361572,\n",
              " 0.08074533939361572,\n",
              " 0.08074533939361572,\n",
              " 0.08074533939361572,\n",
              " 0.08074533939361572,\n",
              " 0.08074533939361572,\n",
              " 0.05590062215924263,\n",
              " 0.05590062215924263,\n",
              " 0.08074533939361572,\n",
              " 0.08074533939361572,\n",
              " 0.08074533939361572,\n",
              " 0.08074533939361572,\n",
              " 0.08074533939361572,\n",
              " 0.08074533939361572,\n",
              " 0.05590062215924263,\n",
              " 0.08074533939361572,\n",
              " 0.08074533939361572,\n",
              " 0.08074533939361572,\n",
              " 0.08074533939361572,\n",
              " 0.08074533939361572,\n",
              " 0.08074533939361572,\n",
              " 0.08074533939361572,\n",
              " 0.08074533939361572,\n",
              " 0.08074533939361572,\n",
              " 0.08074533939361572,\n",
              " 0.08074533939361572]"
            ]
          },
          "metadata": {},
          "execution_count": 13
        }
      ]
    },
    {
      "cell_type": "code",
      "source": [
        "plt.plot(range(len(accuracy)), accuracy, label='Entrenamiento')\n",
        "plt.plot(range(len(accuracy)), val_accuracy, label='Validación')\n",
        "plt.xlabel('etapas')\n",
        "plt.ylabel('precisión')\n",
        "plt.title('Grafico de precisión (Espectogramas)')\n",
        "plt.legend()\n",
        "plt.savefig('drive/MyDrive/grafico_espectogramas.png')\n",
        "# plt.savefig('drive/MyDrive/grafico_audio.png')"
      ],
      "metadata": {
        "colab": {
          "base_uri": "https://localhost:8080/",
          "height": 472
        },
        "id": "-OoMS1j4Fgm7",
        "outputId": "7d780d9d-310e-4e36-a4f4-28640644763f"
      },
      "execution_count": null,
      "outputs": [
        {
          "output_type": "display_data",
          "data": {
            "text/plain": [
              "<Figure size 640x480 with 1 Axes>"
            ],
            "image/png": "[encoded data removed]"
          },
          "metadata": {}
        }
      ]
    },
    {
      "cell_type": "markdown",
      "source": [
        "# Liberacion de recursos"
      ],
      "metadata": {
        "id": "1TxCpG-Cd9BW"
      }
    },
    {
      "cell_type": "code",
      "source": [
        "!pip install numba"
      ],
      "metadata": {
        "id": "xBa5zvb3UL4N"
      },
      "execution_count": null,
      "outputs": []
    },
    {
      "cell_type": "code",
      "source": [
        "from numba import cuda\n",
        "device = cuda.get_current_device()\n",
        "device = cuda.select_device(0)\n",
        "\n",
        "device.reset()\n"
      ],
      "metadata": {
        "id": "w0aC97l7UOlg"
      },
      "execution_count": null,
      "outputs": []
    },
    {
      "cell_type": "code",
      "source": [
        "!service networking restart"
      ],
      "metadata": {
        "colab": {
          "base_uri": "https://localhost:8080/"
        },
        "id": "bJEzQsLDd8uI",
        "outputId": "66bf5c2a-a1a0-4875-fc6e-2324254890e6"
      },
      "execution_count": null,
      "outputs": [
        {
          "output_type": "stream",
          "name": "stdout",
          "text": [
            "networking: unrecognized service\n"
          ]
        }
      ]
    },
    {
      "cell_type": "code",
      "source": [
        "!kill -9 -1"
      ],
      "metadata": {
        "id": "HNCjP38leIfb"
      },
      "execution_count": null,
      "outputs": []
    },
    {
      "cell_type": "code",
      "source": [
        "del model, encoder, X_train, X_test, y_train, y_test, X_val, y_val"
      ],
      "metadata": {
        "id": "VS9X69-aKD5b"
      },
      "execution_count": null,
      "outputs": []
    }
  ]
}